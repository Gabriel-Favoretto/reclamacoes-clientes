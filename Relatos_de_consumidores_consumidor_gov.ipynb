{
  "nbformat": 4,
  "nbformat_minor": 0,
  "metadata": {
    "colab": {
      "provenance": []
    },
    "kernelspec": {
      "name": "python3",
      "display_name": "Python 3"
    },
    "language_info": {
      "name": "python"
    }
  },
  "cells": [
    {
      "cell_type": "code",
      "execution_count": 1,
      "metadata": {
        "id": "6ZEB_uASB7xi"
      },
      "outputs": [],
      "source": [
        "import pandas as pd\n",
        "import matplotlib.pyplot as plt\n",
        "import seaborn as sns"
      ]
    },
    {
      "cell_type": "code",
      "source": [
        "df = pd.read_json('/content/dados2025.json')\n",
        "df.to_csv('reclamacoes_consumidores.csv', index = False)"
      ],
      "metadata": {
        "id": "Y5LbrzblCYsK"
      },
      "execution_count": 4,
      "outputs": []
    },
    {
      "cell_type": "code",
      "source": [],
      "metadata": {
        "id": "DReGW7I5CiSP"
      },
      "execution_count": null,
      "outputs": []
    }
  ]
}